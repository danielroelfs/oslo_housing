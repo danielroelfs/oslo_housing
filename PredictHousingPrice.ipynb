{
 "cells": [
  {
   "cell_type": "markdown",
   "id": "e9efbc56-2bbf-4022-9198-2d8cf6f05717",
   "metadata": {},
   "source": [
    "# Predict Oslo Housing Prices"
   ]
  },
  {
   "cell_type": "markdown",
   "id": "92af9c5a-f946-4494-984c-31857c61e19a",
   "metadata": {},
   "source": [
    "### Load libraries"
   ]
  },
  {
   "cell_type": "code",
   "execution_count": 1,
   "id": "a3bf9b3c-130e-4cb9-a354-3884dc025728",
   "metadata": {},
   "outputs": [],
   "source": [
    "import pandas as pd\n",
    "import numpy as np\n",
    "import matplotlib.pyplot as plt\n",
    "\n",
    "from sklearn.model_selection import train_test_split, GridSearchCV, RandomizedSearchCV\n",
    "from sklearn.preprocessing import StandardScaler\n",
    "from sklearn.impute import SimpleImputer\n",
    "from sklearn.pipeline import Pipeline\n",
    "\n",
    "from sklearn.linear_model import LinearRegression, Ridge, Lasso, ElasticNet\n",
    "from sklearn.tree import DecisionTreeRegressor\n",
    "from sklearn.neural_network import MLPRegressor\n",
    "from sklearn.ensemble import RandomForestRegressor, GradientBoostingRegressor\n",
    "\n",
    "from sklearn.metrics import mean_squared_error\n",
    "from sklearn.inspection import permutation_importance"
   ]
  },
  {
   "cell_type": "code",
   "execution_count": 2,
   "id": "c9b1a879-365d-487c-b5c1-a498a932e71e",
   "metadata": {},
   "outputs": [],
   "source": [
    "np.random.seed(5)\n",
    "\n",
    "plt.style.use('fivethirtyeight')"
   ]
  },
  {
   "cell_type": "markdown",
   "id": "8f34196f-931d-4dad-959b-700f9bd4531a",
   "metadata": {},
   "source": [
    "### Load data"
   ]
  },
  {
   "cell_type": "code",
   "execution_count": 3,
   "id": "33aa3010-1cfe-4099-af39-f5a81392a8d6",
   "metadata": {},
   "outputs": [
    {
     "name": "stdout",
     "output_type": "stream",
     "text": [
      "<class 'pandas.core.frame.DataFrame'>\n",
      "RangeIndex: 1549 entries, 0 to 1548\n",
      "Data columns (total 40 columns):\n",
      " #   Column                 Non-Null Count  Dtype  \n",
      "---  ------                 --------------  -----  \n",
      " 0   new_building           1549 non-null   bool   \n",
      " 1   location               1381 non-null   object \n",
      " 2   address                1549 non-null   object \n",
      " 3   price                  1549 non-null   int64  \n",
      " 4   title                  1549 non-null   object \n",
      " 5   facilities             1467 non-null   object \n",
      " 6   description_text       1549 non-null   object \n",
      " 7   date_changed           1548 non-null   object \n",
      " 8   ad_url                 1549 non-null   object \n",
      " 9   id                     1549 non-null   int64  \n",
      " 10  fellesgjeld            1079 non-null   float64\n",
      " 11  omkostninger           1548 non-null   float64\n",
      " 12  totalpris              1549 non-null   int64  \n",
      " 13  felleskost_mnd         1455 non-null   float64\n",
      " 14  boligtype              1549 non-null   object \n",
      " 15  eieform_bolig          1549 non-null   object \n",
      " 16  soverom                1500 non-null   float64\n",
      " 17  primaerrom             1546 non-null   float64\n",
      " 18  bruksareal             1542 non-null   float64\n",
      " 19  etasje                 1356 non-null   float64\n",
      " 20  byggear                1537 non-null   float64\n",
      " 21  tomt                   52 non-null     object \n",
      " 22  bruttoareal            1389 non-null   float64\n",
      " 23  boligselgerforsikring  431 non-null    object \n",
      " 24  formuesverdi           1353 non-null   float64\n",
      " 25  lat                    1525 non-null   float64\n",
      " 26  long                   1525 non-null   float64\n",
      " 27  energimerking          1389 non-null   object \n",
      " 28  rom                    1292 non-null   float64\n",
      " 29  tomteareal             1489 non-null   float64\n",
      " 30  fellesformue           1142 non-null   float64\n",
      " 31  festeavgift            57 non-null     float64\n",
      " 32  kommunale_avg          101 non-null    float64\n",
      " 33  verditakst             20 non-null     float64\n",
      " 34  utleiedel              2 non-null      object \n",
      " 35  renovert_ar            32 non-null     float64\n",
      " 36  grunnflate             9 non-null      float64\n",
      " 37  solgtpris              2 non-null      float64\n",
      " 38  festear                2 non-null      float64\n",
      " 39  sikringsordning        8 non-null      object \n",
      "dtypes: bool(1), float64(22), int64(3), object(14)\n",
      "memory usage: 473.6+ KB\n"
     ]
    }
   ],
   "source": [
    "data_load = pd.read_csv(\"files/housing_listings_2021-04-28.csv\")\n",
    "\n",
    "data_load.info()"
   ]
  },
  {
   "cell_type": "markdown",
   "id": "ecddcde5-c4af-48f6-aae5-15713f6068b5",
   "metadata": {},
   "source": [
    "### Remove columns with more than 15% missing"
   ]
  },
  {
   "cell_type": "code",
   "execution_count": 4,
   "id": "8570db4d-a523-429b-8754-1d8208923f80",
   "metadata": {},
   "outputs": [],
   "source": [
    "cols_missing = data_load.isna().mean()\n",
    "cols_to_remove = cols_missing[cols_missing > 0.15]\n",
    "\n",
    "data = data_load.drop(cols_to_remove.keys(), axis=1)"
   ]
  },
  {
   "cell_type": "markdown",
   "id": "591f23a5-eae2-4337-a189-f2b35cd38893",
   "metadata": {},
   "source": [
    "### Remove rows with too many missing"
   ]
  },
  {
   "cell_type": "code",
   "execution_count": 5,
   "id": "9ba77e69-7a7b-494a-b282-54a0adcb281d",
   "metadata": {},
   "outputs": [],
   "source": [
    "rows_missing = data.apply(lambda x: x.count(), axis=1)\n",
    "rows_to_remove = rows_missing[rows_missing < 22]\n",
    "\n",
    "data = data.drop(rows_to_remove.keys(), axis=0)"
   ]
  },
  {
   "cell_type": "markdown",
   "id": "748aa55b-2848-4104-9169-846b84a54411",
   "metadata": {},
   "source": [
    "### Define features"
   ]
  },
  {
   "cell_type": "code",
   "execution_count": 6,
   "id": "ae401de8-4a85-44b1-b792-8ee33b6683fb",
   "metadata": {},
   "outputs": [],
   "source": [
    "data_num = data.select_dtypes(include=['int64','float64'])\n",
    "\n",
    "X = data_num.drop(['id','omkostninger','price','totalpris','bruttoareal','bruksareal','formuesverdi'], axis=1)\n",
    "y = data_num['totalpris']\n",
    "\n",
    "feature_names = X.columns"
   ]
  },
  {
   "cell_type": "code",
   "execution_count": 7,
   "id": "cf4f526d-0e80-40d5-bc62-c7f6024343b1",
   "metadata": {},
   "outputs": [
    {
     "data": {
      "image/png": "[encoded data removed]",
      "text/plain": [
       "<Figure size 864x432 with 2 Axes>"
      ]
     },
     "metadata": {},
     "output_type": "display_data"
    }
   ],
   "source": [
    "features_corr = X.corr()\n",
    "plt.figure(figsize=(12,6))\n",
    "plt.matshow(features_corr, fignum=1)\n",
    "plt.xticks(range(len(feature_names)), feature_names, rotation=45, ha='left')\n",
    "plt.yticks(range(len(feature_names)), feature_names)\n",
    "plt.colorbar()\n",
    "plt.grid(False)\n",
    "plt.show()"
   ]
  },
  {
   "cell_type": "code",
   "execution_count": 8,
   "id": "919ac223-1d8b-46b2-9ce9-bf2a51bfad39",
   "metadata": {},
   "outputs": [],
   "source": [
    "X_train, X_test, y_train, y_test = train_test_split(X * 1.0, y, test_size=0.2)"
   ]
  },
  {
   "cell_type": "markdown",
   "id": "3f4cb9df-63a7-4a8a-b688-0d2da703e344",
   "metadata": {},
   "source": [
    "### Define pipeline"
   ]
  },
  {
   "cell_type": "code",
   "execution_count": 9,
   "id": "78db9f0b-e503-4319-9523-3b6d54a943f2",
   "metadata": {},
   "outputs": [],
   "source": [
    "def get_pipeline(model):\n",
    "    steps = [('imputation', SimpleImputer(missing_values=np.nan, strategy='median')),\n",
    "             ('scaler', StandardScaler()),\n",
    "             ('model', model)]\n",
    "         \n",
    "    return(Pipeline(steps))"
   ]
  },
  {
   "cell_type": "markdown",
   "id": "7d540299-c337-4e14-80a9-87132c372c67",
   "metadata": {},
   "source": [
    "### Define models and evaluation process"
   ]
  },
  {
   "cell_type": "code",
   "execution_count": 10,
   "id": "66200b69-c54c-4eb6-a3a7-5b84cb37a90c",
   "metadata": {},
   "outputs": [],
   "source": [
    "models_dict = {\n",
    "    \"Linear Regression (Ridge)\": get_pipeline(Ridge()),\n",
    "    \"Linear Regression (Lasso)\": get_pipeline(Lasso()),\n",
    "    \"Decision Tree\": get_pipeline(DecisionTreeRegressor()),\n",
    "    \"Neural Network\": get_pipeline(MLPRegressor(max_iter=500)),\n",
    "    \"Random Forest\": get_pipeline(RandomForestRegressor()),\n",
    "    \"Elastic Net\": get_pipeline(ElasticNet()),\n",
    "    \"Gradient Boosting\": get_pipeline(GradientBoostingRegressor()),\n",
    "}"
   ]
  },
  {
   "cell_type": "code",
   "execution_count": 11,
   "id": "7893e066-566b-4814-a1c7-dac28d3f952f",
   "metadata": {},
   "outputs": [],
   "source": [
    "def evaluate_model(model, X_train, y_train, X_test, y_test):\n",
    "        \n",
    "    # Fit model\n",
    "    model.fit(X_train, y_train)\n",
    "        \n",
    "    # Make predictions\n",
    "    y_pred = model.predict(X_test)\n",
    "        \n",
    "    # Calculate RMSE\n",
    "    mse = mean_squared_error(y_test, y_pred)\n",
    "    rmse = np.sqrt(mse)\n",
    "        \n",
    "    # Calculate R^2\n",
    "    r2 = model.score(X_test, y_test)\n",
    "        \n",
    "    # Return average RMSE and R^2\n",
    "    return rmse, r2"
   ]
  },
  {
   "cell_type": "markdown",
   "id": "70dc44e6-83dd-4afc-a763-97c1d47a5990",
   "metadata": {},
   "source": [
    "### Run through models in loop"
   ]
  },
  {
   "cell_type": "code",
   "execution_count": 12,
   "id": "63f98a29-c63a-47a6-9a1c-0db88746c9c2",
   "metadata": {},
   "outputs": [
    {
     "name": "stdout",
     "output_type": "stream",
     "text": [
      "Linear Regression (Ridge) RMSE: 3,598,145 NOK\n",
      "Linear Regression (Lasso) RMSE: 3,595,722 NOK\n",
      "Decision Tree RMSE: 4,330,089 NOK\n"
     ]
    },
    {
     "name": "stderr",
     "output_type": "stream",
     "text": [
      "/Users/dtroelfs/Applications/anaconda3/envs/mmiv/lib/python3.9/site-packages/sklearn/neural_network/_multilayer_perceptron.py:614: ConvergenceWarning: Stochastic Optimizer: Maximum iterations (500) reached and the optimization hasn't converged yet.\n",
      "  warnings.warn(\n"
     ]
    },
    {
     "name": "stdout",
     "output_type": "stream",
     "text": [
      "Neural Network RMSE: 10,020,247 NOK\n",
      "Random Forest RMSE: 3,796,126 NOK\n",
      "Elastic Net RMSE: 4,524,360 NOK\n",
      "Gradient Boosting RMSE: 3,748,510 NOK\n"
     ]
    }
   ],
   "source": [
    "for name, model in models_dict.items():\n",
    "    rmse, _ = evaluate_model(model, X_train, y_train, X_test, y_test)\n",
    "    print(name + \" RMSE: {:0,.0f} NOK\".format(int(rmse)))"
   ]
  },
  {
   "cell_type": "code",
   "execution_count": 13,
   "id": "3ca89809-d373-47f8-9152-63c9cb21f57e",
   "metadata": {},
   "outputs": [
    {
     "name": "stdout",
     "output_type": "stream",
     "text": [
      "Linear Regression (Ridge) R Squared: 0.755\n",
      "Linear Regression (Lasso) R Squared: 0.755\n",
      "Decision Tree R Squared: 0.647\n"
     ]
    },
    {
     "name": "stderr",
     "output_type": "stream",
     "text": [
      "/Users/dtroelfs/Applications/anaconda3/envs/mmiv/lib/python3.9/site-packages/sklearn/neural_network/_multilayer_perceptron.py:614: ConvergenceWarning: Stochastic Optimizer: Maximum iterations (500) reached and the optimization hasn't converged yet.\n",
      "  warnings.warn(\n"
     ]
    },
    {
     "name": "stdout",
     "output_type": "stream",
     "text": [
      "Neural Network R Squared: -0.903\n",
      "Random Forest R Squared: 0.733\n",
      "Elastic Net R Squared: 0.612\n",
      "Gradient Boosting R Squared: 0.739\n"
     ]
    }
   ],
   "source": [
    "for name, model in models_dict.items():\n",
    "    _, r2 = evaluate_model(model, X_train, y_train, X_test, y_test)\n",
    "    print(name + \" R Squared: {:.3f}\".format(r2))"
   ]
  },
  {
   "cell_type": "markdown",
   "id": "6b82a011-2c44-493e-9fb6-5cb7aea40680",
   "metadata": {},
   "source": [
    "### Re-run on best performing base model"
   ]
  },
  {
   "cell_type": "code",
   "execution_count": 14,
   "id": "6c9956ee-b12c-44ac-aa96-5143a3a75c80",
   "metadata": {},
   "outputs": [],
   "source": [
    "model = get_pipeline(GradientBoostingRegressor())"
   ]
  },
  {
   "cell_type": "code",
   "execution_count": 15,
   "id": "4e065c72-c76f-4e9b-b190-ce906dcd3f75",
   "metadata": {},
   "outputs": [],
   "source": [
    "params_grid = {'model__criterion': ['friedman_mse','mse','mea'],\n",
    "               'model__alpha': np.linspace(0.5, 0.99, num=10),\n",
    "               'model__learning_rate': np.linspace(0.08,0.4, num=10),\n",
    "               'model__n_estimators' : np.linspace(50,500, num=20, dtype='int'),\n",
    "               'model__max_depth': np.linspace(1, 10, dtype='int')}\n",
    "\n",
    "model = RandomizedSearchCV(model, params_grid, n_iter=50, n_jobs=-1)"
   ]
  },
  {
   "cell_type": "code",
   "execution_count": 16,
   "id": "fc9ae3cb-ed10-4f58-a4f6-54ff43386832",
   "metadata": {},
   "outputs": [
    {
     "name": "stderr",
     "output_type": "stream",
     "text": [
      "/Users/dtroelfs/Applications/anaconda3/envs/mmiv/lib/python3.9/site-packages/sklearn/model_selection/_search.py:918: UserWarning: One or more of the test scores are non-finite: [0.7491856  0.62926126 0.69295905 0.72437188 0.65792677 0.71883387\n",
      " 0.73665684 0.77603005 0.76563879 0.74705777 0.71172973 0.75735148\n",
      " 0.69153766 0.72346843 0.74323964 0.78142834        nan 0.61520692\n",
      "        nan 0.7662384         nan        nan        nan        nan\n",
      "        nan        nan 0.6987299  0.71102523 0.74874257 0.68371506\n",
      " 0.78910389        nan 0.75134526        nan        nan 0.71343379\n",
      " 0.75242118 0.68358575        nan 0.67249481        nan        nan\n",
      "        nan 0.62271102        nan 0.72028006 0.77962397 0.60846076\n",
      " 0.77302391 0.73840439]\n",
      "  warnings.warn(\n"
     ]
    },
    {
     "data": {
      "text/plain": [
       "RandomizedSearchCV(estimator=Pipeline(steps=[('imputation',\n",
       "                                              SimpleImputer(strategy='median')),\n",
       "                                             ('scaler', StandardScaler()),\n",
       "                                             ('model',\n",
       "                                              GradientBoostingRegressor())]),\n",
       "                   n_iter=50, n_jobs=-1,\n",
       "                   param_distributions={'model__alpha': array([0.5       , 0.55444444, 0.60888889, 0.66333333, 0.71777778,\n",
       "       0.77222222, 0.82666667, 0.88111111, 0.93555556, 0.99      ]),\n",
       "                                        'model__criterion': ['friedm...\n",
       "                                        'model__learning_rate': array([0.08      , 0.11555556, 0.15111111, 0.18666667, 0.22222222,\n",
       "       0.25777778, 0.29333333, 0.32888889, 0.36444444, 0.4       ]),\n",
       "                                        'model__max_depth': array([ 1,  1,  1,  1,  1,  1,  2,  2,  2,  2,  2,  3,  3,  3,  3,  3,  3,\n",
       "        4,  4,  4,  4,  4,  5,  5,  5,  5,  5,  5,  6,  6,  6,  6,  6,  7,\n",
       "        7,  7,  7,  7,  7,  8,  8,  8,  8,  8,  9,  9,  9,  9,  9, 10]),\n",
       "                                        'model__n_estimators': array([ 50,  73,  97, 121, 144, 168, 192, 215, 239, 263, 286, 310, 334,\n",
       "       357, 381, 405, 428, 452, 476, 500])})"
      ]
     },
     "execution_count": 16,
     "metadata": {},
     "output_type": "execute_result"
    }
   ],
   "source": [
    "model.fit(X_train, y_train)"
   ]
  },
  {
   "cell_type": "markdown",
   "id": "1e55b8d5-011b-427d-bdc4-a596f2824ac0",
   "metadata": {},
   "source": [
    "### Evaluate model"
   ]
  },
  {
   "cell_type": "code",
   "execution_count": 17,
   "id": "6d55ffe8-f47a-44d4-a248-25d4fcde9b5b",
   "metadata": {},
   "outputs": [
    {
     "name": "stdout",
     "output_type": "stream",
     "text": [
      "Best parameters: {'model__n_estimators': 50, 'model__max_depth': 3, 'model__learning_rate': 0.11555555555555555, 'model__criterion': 'mse', 'model__alpha': 0.5544444444444444}\n",
      "R squared: 0.735\n"
     ]
    }
   ],
   "source": [
    "r2 = model.score(X_test, y_test)\n",
    "print(\"Best parameters: {}\".format(model.best_params_))\n",
    "print(\"R squared: {}\".format(np.round(r2,3)))"
   ]
  },
  {
   "cell_type": "code",
   "execution_count": 18,
   "id": "fbfaca71-fd2e-4dd4-ba83-0b125a6c6ec3",
   "metadata": {},
   "outputs": [
    {
     "name": "stdout",
     "output_type": "stream",
     "text": [
      "RMSE: 3,742,024 NOK\n"
     ]
    }
   ],
   "source": [
    "y_pred = model.predict(X_test)\n",
    "mse = mean_squared_error(y_test, y_pred)\n",
    "print(\"RMSE: {:0,.0f} NOK\".format(int(np.sqrt(mse))))"
   ]
  },
  {
   "cell_type": "markdown",
   "id": "e744a002-c13e-4000-a3bc-447492062fd9",
   "metadata": {},
   "source": [
    "### Plot Feature Importance"
   ]
  },
  {
   "cell_type": "code",
   "execution_count": 19,
   "id": "b30c8f6a-05b9-4406-9cef-5066d56ee55e",
   "metadata": {},
   "outputs": [],
   "source": [
    "perm_importance = permutation_importance(model, X_test, y_test, n_repeats=10)\n",
    "feature_importances = perm_importance.importances_mean"
   ]
  },
  {
   "cell_type": "code",
   "execution_count": 20,
   "id": "29420fb3-10e8-4a6b-a6c8-e3780be8036f",
   "metadata": {},
   "outputs": [
    {
     "data": {
      "image/png": "[encoded data removed]",
      "text/plain": [
       "<Figure size 864x432 with 2 Axes>"
      ]
     },
     "metadata": {},
     "output_type": "display_data"
    }
   ],
   "source": [
    "sorted_idx = np.argsort(feature_importances)\n",
    "pos = np.arange(sorted_idx.shape[0])\n",
    "fig = plt.figure(figsize=(12, 6))\n",
    "plt.subplot(1, 2, 1)\n",
    "plt.barh(pos, feature_importances[sorted_idx], align='center')\n",
    "plt.yticks(pos, feature_names[sorted_idx])\n",
    "plt.title('Feature Importance')\n",
    "\n",
    "plt.subplot(1, 2, 2)\n",
    "plt.boxplot(perm_importance.importances[sorted_idx].T,\n",
    "            vert=False, labels=feature_names[sorted_idx])\n",
    "plt.title(\"Permutation Importance\")\n",
    "\n",
    "fig.tight_layout()\n",
    "plt.show()"
   ]
  },
  {
   "cell_type": "code",
   "execution_count": null,
   "id": "f7947e7f-1754-4cc7-bca7-b4fce68f344d",
   "metadata": {},
   "outputs": [],
   "source": []
  }
 ],
 "metadata": {
  "kernelspec": {
   "display_name": "Python 3",
   "language": "python",
   "name": "python3"
  },
  "language_info": {
   "codemirror_mode": {
    "name": "ipython",
    "version": 3
   },
   "file_extension": ".py",
   "mimetype": "text/x-python",
   "name": "python",
   "nbconvert_exporter": "python",
   "pygments_lexer": "ipython3",
   "version": "3.9.4"
  }
 },
 "nbformat": 4,
 "nbformat_minor": 5
}
